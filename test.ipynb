{
 "cells": [
  {
   "cell_type": "code",
   "execution_count": 1,
   "id": "2b6dc8e0-0478-45eb-be59-f0b85a0fa1f8",
   "metadata": {},
   "outputs": [
    {
     "name": "stderr",
     "output_type": "stream",
     "text": [
      "/shared/morgan/miniforge3/envs/acegen/lib/python3.9/site-packages/tqdm/auto.py:21: TqdmWarning: IProgress not found. Please update jupyter and ipywidgets. See https://ipywidgets.readthedocs.io/en/stable/user_install.html\n",
      "  from .autonotebook import tqdm as notebook_tqdm\n"
     ]
    }
   ],
   "source": [
    "from copy import deepcopy\n",
    "from typing import Callable, Union\n",
    "from functools import partial\n",
    "\n",
    "import torch\n",
    "from tensordict.nn import TensorDictModule\n",
    "from tensordict.nn.probabilistic import set_interaction_type as set_exploration_type\n",
    "from tensordict.tensordict import TensorDictBase\n",
    "from torchrl.collectors import RandomPolicy\n",
    "from torchrl.envs import EnvBase, TensorDictPrimer, TransformedEnv, CatFrames, InitTracker, StepCounter, UnsqueezeTransform\n",
    "from torchrl.envs.utils import ExplorationType, step_mdp\n",
    "\n",
    "\n",
    "from acegen.rl_env.smiles_env import SMILESEnv\n",
    "from acegen.vocabulary import SMILESVocabulary, SMILESTokenizer, SMILESTokenizer2\n",
    "from acegen.data.utils import smiles_to_tensordict\n",
    "from acegen.models import create_gru_actor, adapt_state_dict, create_gpt2_actor\n",
    "\n",
    "from promptsmiles import ScaffoldDecorator, FragmentLinker\n",
    "_has_promptsmiles = True\n",
    "\n",
    "from acegen.rl_env.utils import generate_complete_smiles, get_log_prob"
   ]
  },
  {
   "cell_type": "code",
   "execution_count": 1,
   "id": "82a57db8-1c41-4dff-9b81-25f3bdbf8473",
   "metadata": {
    "collapsed": true,
    "jupyter": {
     "outputs_hidden": true,
     "source_hidden": true
    },
    "scrolled": true
   },
   "outputs": [
    {
     "name": "stderr",
     "output_type": "stream",
     "text": [
      "/shared/morgan/miniforge3/envs/acegen/lib/python3.9/site-packages/tqdm/auto.py:21: TqdmWarning: IProgress not found. Please update jupyter and ipywidgets. See https://ipywidgets.readthedocs.io/en/stable/user_install.html\n",
      "  from .autonotebook import tqdm as notebook_tqdm\n"
     ]
    },
    {
     "name": "stdout",
     "output_type": "stream",
     "text": [
      "<class 'acegen.vocabulary.tokenizers.SMILESTokenizer'>\n",
      "['C', 'C', '1', '=', 'C', '(', 'C', '(', '=', 'O', ')', 'N', '2', 'C', 'C', 'C', 'C', 'C', '2', '=', 'N', '1', ')', 'C', 'C', 'N', '3', 'C', 'C', 'C', '(', 'C', 'C', '3', ')', 'C', '4', '=', 'N', 'O', 'C', '5', '=', 'C', '4', 'C', '=', 'C', 'C', '(', '=', 'C', '5', ')', 'F']\n",
      "CC1=C(C(=O)N2CCCCC2=N1)CCN3CCC(CC3)C4=NOC5=C4C=CC(=C5)F\n",
      "<class 'acegen.vocabulary.tokenizers.SMILESTokenizer2'>\n",
      "['C', 'C', '1', '=', 'C', '(', 'C', '(', '=', 'O', ')', 'N', '2', 'C', 'C', 'C', 'C', 'C', '2', '=', 'N', '1', ')', 'C', 'C', 'N', '3', 'C', 'C', 'C', '(', 'C', 'C', '3', ')', 'C', '4', '=', 'N', 'O', 'C', '5', '=', 'C', '4', 'C', '=', 'C', 'C', '(', '=', 'C', '5', ')', 'F']\n",
      "CC1=C(C(=O)N2CCCCC2=N1)CCN3CCC(CC3)C4=NOC5=C4C=CC(=C5)F\n",
      "<class 'acegen.vocabulary.tokenizers.DeepSMILESTokenizer'>\n",
      "['C', 'C', '=', 'C', 'C', '=', 'O', ')', 'N', 'C', 'C', 'C', 'C', 'C', '6', '=', 'N', '%', '1', '0', ')', ')', ')', ')', ')', ')', ')', ')', 'C', 'C', 'N', 'C', 'C', 'C', 'C', 'C', '6', ')', ')', 'C', '=', 'N', 'O', 'C', '=', 'C', '5', 'C', '=', 'C', 'C', '=', 'C', '6', ')', 'F']\n",
      "CC2=C(C(=O)N1CCCCC1=N2)CCN3CCC(CC3)C4=NOC5=C4C=CC(=C5)F\n",
      "<class 'acegen.vocabulary.tokenizers.AISTokenizer'>\n",
      "['[CH3;!R;C]', '[c;R;CCN]', '1', '[n;R;CC]', '[c;R;CNN]', '2', '[n;R;CCC]', '(', '[c;R;CNO]', '(', '=', '[O;!R;C]', ')', '[c;R;CCC]', '1', '[CH2;!R;CC]', '[CH2;!R;CN]', '[N;R;CCC]', '1', '[CH2;R;CN]', '[CH2;R;CC]', '[CH;R;CCC]', '(', '[c;R;CCN]', '3', '[n;R;CO]', '[o;R;CN]', '[c;R;CCO]', '4', '[cH;R;CC]', '[c;R;CCF]', '(', '[F;!R;C]', ')', '[cH;R;CC]', '[cH;R;CC]', '[c;R;CCC]', '3', '4', ')', '[CH2;R;CC]', '[CH2;R;CN]', '1', ')', '[CH2;R;CN]', '[CH2;R;CC]', '[CH2;R;CC]', '[CH2;R;CC]', '2']\n",
      "Cc1nc2n(c(=O)c1CCN1CCC(c3noc4cc(F)ccc34)CC1)CCCC2\n",
      "<class 'acegen.vocabulary.tokenizers.SAFETokenizer'>\n",
      "['C', 'c', '1', 'n', 'c', '2', 'n', '(', 'c', '(', '=', 'O', ')', 'c', '1', '7', ')', 'C', 'C', 'C', 'C', '2', '.', 'c', '1', '8', 'n', 'o', 'c', '2', 'c', 'c', '(', 'F', ')', 'c', 'c', 'c', '1', '2', '.', 'N', '1', '6', 'C', 'C', 'C', '8', 'C', 'C', '1', '.', 'C', '7', 'C', '6']\n",
      "Cc1nc2n(c(=O)c1CCN1CCC(c3noc4cc(F)ccc34)CC1)CCCC2\n",
      "<class 'acegen.vocabulary.tokenizers.SELFIESTokenizer'>\n",
      "['[C]', '[C]', '[=C]', '[Branch1]', '[S]', '[C]', '[=Branch1]', '[C]', '[=O]', '[N]', '[C]', '[C]', '[C]', '[C]', '[C]', '[Ring1]', '[=Branch1]', '[=N]', '[Ring1]', '[O]', '[C]', '[C]', '[N]', '[C]', '[C]', '[C]', '[Branch1]', '[Branch1]', '[C]', '[C]', '[Ring1]', '[=Branch1]', '[C]', '[=N]', '[O]', '[C]', '[=C]', '[Ring1]', '[Branch1]', '[C]', '[=C]', '[C]', '[=Branch1]', '[Ring2]', '[=C]', '[Ring1]', '[=Branch1]', '[F]']\n",
      "CC1=C(C(=O)N2CCCCC2=N1)CCN3CCC(CC3)C4=NOC5=C4C=CC(=C5)F\n"
     ]
    }
   ],
   "source": [
    "from acegen.vocabulary import tokenizers\n",
    "\n",
    "for tokenizer in [tokenizers.SMILESTokenizer, tokenizers.SMILESTokenizer2, tokenizers.DeepSMILESTokenizer, tokenizers.AISTokenizer, tokenizers.SAFETokenizer, tokenizers.SELFIESTokenizer]:\n",
    "    print(tokenizer)\n",
    "    smiles = \"CC1=C(C(=O)N2CCCCC2=N1)CCN3CCC(CC3)C4=NOC5=C4C=CC(=C5)F\"\n",
    "    TOK = tokenizer()\n",
    "    tokens = TOK.tokenize(smiles)\n",
    "    print(tokens)\n",
    "    untokens = TOK.untokenize(tokens)\n",
    "    print(untokens)"
   ]
  },
  {
   "cell_type": "code",
   "execution_count": null,
   "id": "addf09e6-62cd-4d8d-8012-007ec952d5d8",
   "metadata": {
    "scrolled": true
   },
   "outputs": [
    {
     "name": "stderr",
     "output_type": "stream",
     "text": [
      "Scan must be used for more than two fragments, Scan will be enabled.\n"
     ]
    }
   ],
   "source": [
    "output_data = generate_complete_smiles(\n",
    "    environment=env,\n",
    "    vocabulary=vocabulary,\n",
    "    policy=actor_inference,\n",
    "    prompt=None, #\"c1ccccc1C(=O)\",\n",
    "    promptsmiles=[\"N1(*)CCNCC1\", \"C1(*)CC1\", \"c1cncc(*)c1\"],\n",
    "    promptsmiles_optimize=True,\n",
    "    promptsmiles_shuffle=True,\n",
    "    return_smiles_only=True\n",
    ")\n",
    "if isinstance(output_data, list):\n",
    "    _ = [print(s) for s in output_data]\n",
    "else:\n",
    "    print(output_data)\n",
    "    smiles = output_data.get(\"action\").cpu()\n",
    "    smiles_str = [vocabulary.decode(smi.numpy()) for smi in smiles]\n",
    "    _ = [print(s) for s in smiles_str]"
   ]
  },
  {
   "cell_type": "code",
   "execution_count": 11,
   "id": "4e11d1dd-5912-40dc-9201-d81852849783",
   "metadata": {
    "scrolled": true
   },
   "outputs": [],
   "source": [
    "# Load prereqs\n",
    "smiles = [\n",
    "    'c1ccccc1',\n",
    "    'c1ccccc1C(=O)C'\n",
    "]\n",
    "\n",
    "# Get available device\n",
    "device = torch.device(\"cpu\")\n",
    "create_actor, voc_path, ckpt_path, tokenizer = (create_gru_actor, \"priors/chembl_filtered_vocabulary.txt\", \"priors/gru_chembl_filtered.ckpt\", SMILESTokenizer())\n",
    "#create_actor, voc_path, ckpt_path, tokenizer = (create_gpt2_actor, \"priors/enamine_real_vocabulary.txt\",\"/shared/albert/acegen-open/priors/gpt2_enamine_real.ckpt\", SMILESTokenizer2())\n",
    "# Load vocabulary\n",
    "with open(voc_path, \"r\") as f:\n",
    "        tokens = f.read().splitlines()\n",
    "tokens_dict = dict(zip(tokens, range(len(tokens))))\n",
    "vocabulary = SMILESVocabulary.create_from_dict(tokens_dict, start_token=\"GO\", end_token=\"EOS\", tokenizer=tokenizer)\n",
    "# Create models\n",
    "ckpt = torch.load(ckpt_path)\n",
    "actor_training, actor_inference = create_actor(vocabulary_size=len(vocabulary))\n",
    "actor_inference.load_state_dict(\n",
    "    adapt_state_dict(ckpt, actor_inference.state_dict())\n",
    ")\n",
    "actor_training.load_state_dict(adapt_state_dict(ckpt, actor_training.state_dict()))\n",
    "actor_inference = actor_inference.to(device)\n",
    "actor_training = actor_training.to(device)\n",
    "prior = deepcopy(actor_training)\n",
    " # Create RL environment\n",
    "# For RNNs, create a transform to populate initial tensordict with recurrent states equal to 0.0\n",
    "rhs_primers = []\n",
    "if hasattr(actor_training, \"rnn_spec\"):\n",
    "    primers = actor_training.rnn_spec.expand(64)\n",
    "    rhs_primers.append(TensorDictPrimer(primers))\n",
    "env_kwargs = {\n",
    "    \"start_token\": vocabulary.start_token_index,\n",
    "    \"end_token\": vocabulary.end_token_index,\n",
    "    \"length_vocabulary\": len(vocabulary),\n",
    "    \"batch_size\": 64,\n",
    "    \"device\": device,\n",
    "}\n",
    "def create_env_fn():\n",
    "    \"\"\"Create a single RL rl_env.\"\"\"\n",
    "    env = SMILESEnv(**env_kwargs)\n",
    "    env = TransformedEnv(env)\n",
    "    env.append_transform(StepCounter())\n",
    "    env.append_transform(InitTracker())\n",
    "    for rhs_primer in rhs_primers:\n",
    "        env.append_transform(rhs_primer)\n",
    "    return env\n",
    "\n",
    "env = create_env_fn()\n",
    "#data = generate_complete_smiles(policy=actor_inference, environment=env)"
   ]
  },
  {
   "cell_type": "code",
   "execution_count": 17,
   "id": "70dee783-6df2-47b7-a3db-a247bad25cf9",
   "metadata": {},
   "outputs": [],
   "source": [
    "@torch.no_grad()\n",
    "def get_log_prob(smiles: list, policy: Union[TensorDictModule, Callable[[TensorDictBase], TensorDictBase]]):\n",
    "    data = smiles_to_tensordict(smiles, mask_value=0)\n",
    "    data.set('is_init', torch.zeros_like(data.get('done')))\n",
    "\n",
    "    actions = data.get(\"action\").clone()\n",
    "\n",
    "    # For transformers-based policies\n",
    "    data.set(\"sequence\", data.get(\"observation\"))\n",
    "\n",
    "    policy_in = data.select(*policy.in_keys, strict=False)\n",
    "    log_prob = policy.get_dist(policy_in).log_prob(actions)\n",
    "    log_prob = log_prob.sum(-1)\n",
    "    return log_prob"
   ]
  },
  {
   "cell_type": "code",
   "execution_count": 18,
   "id": "2fb8c86b-50a9-4940-a99a-0ea36ba2c378",
   "metadata": {},
   "outputs": [
    {
     "data": {
      "text/plain": [
       "tensor([-55.1180, -81.1181])"
      ]
     },
     "execution_count": 18,
     "metadata": {},
     "output_type": "execute_result"
    }
   ],
   "source": [
    "# TODO Pad and encode smiles\n",
    "tokens = [torch.tensor(vocabulary.encode(smi)) for smi in smiles]\n",
    "enc_smiles = torch.vstack([torch.nn.functional.pad(tok, (0, 100-tok.size()[0])) for tok in tokens])\n",
    "get_log_prob(enc_smiles, actor_inference)"
   ]
  },
  {
   "cell_type": "code",
   "execution_count": null,
   "id": "38873dd3-0853-4b43-b4ff-6fa4f2a231b1",
   "metadata": {},
   "outputs": [],
   "source": [
    "torch.tensorz()"
   ]
  },
  {
   "cell_type": "code",
   "execution_count": 12,
   "id": "e6fc93d1-bbb6-4bbb-870c-2e5c9e2a548c",
   "metadata": {
    "collapsed": true,
    "jupyter": {
     "outputs_hidden": true
    }
   },
   "outputs": [
    {
     "data": {
      "text/plain": [
       "TensorDict(\n",
       "    fields={\n",
       "        action: Tensor(shape=torch.Size([2, 99]), device=cpu, dtype=torch.float32, is_shared=False),\n",
       "        done: Tensor(shape=torch.Size([2, 99, 1]), device=cpu, dtype=torch.bool, is_shared=False),\n",
       "        mask: Tensor(shape=torch.Size([2, 99]), device=cpu, dtype=torch.bool, is_shared=False),\n",
       "        next: TensorDict(\n",
       "            fields={\n",
       "                done: Tensor(shape=torch.Size([2, 99, 1]), device=cpu, dtype=torch.bool, is_shared=False),\n",
       "                observation: Tensor(shape=torch.Size([2, 99]), device=cpu, dtype=torch.int32, is_shared=False),\n",
       "                reward: Tensor(shape=torch.Size([2, 99, 1]), device=cpu, dtype=torch.float32, is_shared=False),\n",
       "                terminated: Tensor(shape=torch.Size([2, 99, 1]), device=cpu, dtype=torch.bool, is_shared=False)},\n",
       "            batch_size=torch.Size([2, 99]),\n",
       "            device=cpu,\n",
       "            is_shared=False),\n",
       "        observation: Tensor(shape=torch.Size([2, 99]), device=cpu, dtype=torch.int32, is_shared=False),\n",
       "        terminated: Tensor(shape=torch.Size([2, 99, 1]), device=cpu, dtype=torch.bool, is_shared=False)},\n",
       "    batch_size=torch.Size([2, 99]),\n",
       "    device=cpu,\n",
       "    is_shared=False)"
      ]
     },
     "execution_count": 12,
     "metadata": {},
     "output_type": "execute_result"
    }
   ],
   "source": [
    "smiles_td = smiles_to_tensordict(enc_smiles, mask_value=0)\n",
    "smiles_td"
   ]
  }
 ],
 "metadata": {
  "kernelspec": {
   "display_name": "Python 3 (ipykernel)",
   "language": "python",
   "name": "python3"
  },
  "language_info": {
   "codemirror_mode": {
    "name": "ipython",
    "version": 3
   },
   "file_extension": ".py",
   "mimetype": "text/x-python",
   "name": "python",
   "nbconvert_exporter": "python",
   "pygments_lexer": "ipython3",
   "version": "3.9.18"
  }
 },
 "nbformat": 4,
 "nbformat_minor": 5
}
