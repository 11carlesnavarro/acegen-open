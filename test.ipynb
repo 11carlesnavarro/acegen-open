{
 "cells": [
  {
   "cell_type": "code",
   "execution_count": 1,
   "id": "2b6dc8e0-0478-45eb-be59-f0b85a0fa1f8",
   "metadata": {},
   "outputs": [
    {
     "name": "stderr",
     "output_type": "stream",
     "text": [
      "/shared/morgan/miniforge3/envs/acegen/lib/python3.9/site-packages/tqdm/auto.py:21: TqdmWarning: IProgress not found. Please update jupyter and ipywidgets. See https://ipywidgets.readthedocs.io/en/stable/user_install.html\n",
      "  from .autonotebook import tqdm as notebook_tqdm\n"
     ]
    }
   ],
   "source": [
    "from copy import deepcopy\n",
    "from typing import Callable, Union\n",
    "from functools import partial\n",
    "\n",
    "import torch\n",
    "from tensordict.nn import TensorDictModule\n",
    "from tensordict.nn.probabilistic import set_interaction_type as set_exploration_type\n",
    "from tensordict.tensordict import TensorDictBase\n",
    "from torchrl.collectors import RandomPolicy\n",
    "from torchrl.envs import EnvBase, TensorDictPrimer, TransformedEnv, CatFrames, InitTracker, StepCounter, UnsqueezeTransform\n",
    "from torchrl.envs.utils import ExplorationType, step_mdp\n",
    "\n",
    "\n",
    "from acegen.rl_env.smiles_env import SMILESEnv\n",
    "from acegen.vocabulary import SMILESVocabulary, SMILESTokenizer, SMILESTokenizer2\n",
    "from acegen.data.utils import smiles_to_tensordict\n",
    "from acegen.models import create_gru_actor, adapt_state_dict\n",
    "\n",
    "from promptsmiles import ScaffoldDecorator, FragmentLinker\n",
    "_has_promptsmiles = True\n",
    "\n",
    "from acegen.rl_env.utils import generate_complete_smiles, get_log_prob"
   ]
  },
  {
   "cell_type": "code",
   "execution_count": 1,
   "id": "82a57db8-1c41-4dff-9b81-25f3bdbf8473",
   "metadata": {
    "collapsed": true,
    "jupyter": {
     "outputs_hidden": true,
     "source_hidden": true
    },
    "scrolled": true
   },
   "outputs": [
    {
     "name": "stderr",
     "output_type": "stream",
     "text": [
      "/shared/morgan/miniforge3/envs/acegen/lib/python3.9/site-packages/tqdm/auto.py:21: TqdmWarning: IProgress not found. Please update jupyter and ipywidgets. See https://ipywidgets.readthedocs.io/en/stable/user_install.html\n",
      "  from .autonotebook import tqdm as notebook_tqdm\n"
     ]
    },
    {
     "name": "stdout",
     "output_type": "stream",
     "text": [
      "<class 'acegen.vocabulary.tokenizers.SMILESTokenizer'>\n",
      "['C', 'C', '1', '=', 'C', '(', 'C', '(', '=', 'O', ')', 'N', '2', 'C', 'C', 'C', 'C', 'C', '2', '=', 'N', '1', ')', 'C', 'C', 'N', '3', 'C', 'C', 'C', '(', 'C', 'C', '3', ')', 'C', '4', '=', 'N', 'O', 'C', '5', '=', 'C', '4', 'C', '=', 'C', 'C', '(', '=', 'C', '5', ')', 'F']\n",
      "CC1=C(C(=O)N2CCCCC2=N1)CCN3CCC(CC3)C4=NOC5=C4C=CC(=C5)F\n",
      "<class 'acegen.vocabulary.tokenizers.SMILESTokenizer2'>\n",
      "['C', 'C', '1', '=', 'C', '(', 'C', '(', '=', 'O', ')', 'N', '2', 'C', 'C', 'C', 'C', 'C', '2', '=', 'N', '1', ')', 'C', 'C', 'N', '3', 'C', 'C', 'C', '(', 'C', 'C', '3', ')', 'C', '4', '=', 'N', 'O', 'C', '5', '=', 'C', '4', 'C', '=', 'C', 'C', '(', '=', 'C', '5', ')', 'F']\n",
      "CC1=C(C(=O)N2CCCCC2=N1)CCN3CCC(CC3)C4=NOC5=C4C=CC(=C5)F\n",
      "<class 'acegen.vocabulary.tokenizers.DeepSMILESTokenizer'>\n",
      "['C', 'C', '=', 'C', 'C', '=', 'O', ')', 'N', 'C', 'C', 'C', 'C', 'C', '6', '=', 'N', '%', '1', '0', ')', ')', ')', ')', ')', ')', ')', ')', 'C', 'C', 'N', 'C', 'C', 'C', 'C', 'C', '6', ')', ')', 'C', '=', 'N', 'O', 'C', '=', 'C', '5', 'C', '=', 'C', 'C', '=', 'C', '6', ')', 'F']\n",
      "CC2=C(C(=O)N1CCCCC1=N2)CCN3CCC(CC3)C4=NOC5=C4C=CC(=C5)F\n",
      "<class 'acegen.vocabulary.tokenizers.AISTokenizer'>\n",
      "['[CH3;!R;C]', '[c;R;CCN]', '1', '[n;R;CC]', '[c;R;CNN]', '2', '[n;R;CCC]', '(', '[c;R;CNO]', '(', '=', '[O;!R;C]', ')', '[c;R;CCC]', '1', '[CH2;!R;CC]', '[CH2;!R;CN]', '[N;R;CCC]', '1', '[CH2;R;CN]', '[CH2;R;CC]', '[CH;R;CCC]', '(', '[c;R;CCN]', '3', '[n;R;CO]', '[o;R;CN]', '[c;R;CCO]', '4', '[cH;R;CC]', '[c;R;CCF]', '(', '[F;!R;C]', ')', '[cH;R;CC]', '[cH;R;CC]', '[c;R;CCC]', '3', '4', ')', '[CH2;R;CC]', '[CH2;R;CN]', '1', ')', '[CH2;R;CN]', '[CH2;R;CC]', '[CH2;R;CC]', '[CH2;R;CC]', '2']\n",
      "Cc1nc2n(c(=O)c1CCN1CCC(c3noc4cc(F)ccc34)CC1)CCCC2\n",
      "<class 'acegen.vocabulary.tokenizers.SAFETokenizer'>\n",
      "['C', 'c', '1', 'n', 'c', '2', 'n', '(', 'c', '(', '=', 'O', ')', 'c', '1', '7', ')', 'C', 'C', 'C', 'C', '2', '.', 'c', '1', '8', 'n', 'o', 'c', '2', 'c', 'c', '(', 'F', ')', 'c', 'c', 'c', '1', '2', '.', 'N', '1', '6', 'C', 'C', 'C', '8', 'C', 'C', '1', '.', 'C', '7', 'C', '6']\n",
      "Cc1nc2n(c(=O)c1CCN1CCC(c3noc4cc(F)ccc34)CC1)CCCC2\n",
      "<class 'acegen.vocabulary.tokenizers.SELFIESTokenizer'>\n",
      "['[C]', '[C]', '[=C]', '[Branch1]', '[S]', '[C]', '[=Branch1]', '[C]', '[=O]', '[N]', '[C]', '[C]', '[C]', '[C]', '[C]', '[Ring1]', '[=Branch1]', '[=N]', '[Ring1]', '[O]', '[C]', '[C]', '[N]', '[C]', '[C]', '[C]', '[Branch1]', '[Branch1]', '[C]', '[C]', '[Ring1]', '[=Branch1]', '[C]', '[=N]', '[O]', '[C]', '[=C]', '[Ring1]', '[Branch1]', '[C]', '[=C]', '[C]', '[=Branch1]', '[Ring2]', '[=C]', '[Ring1]', '[=Branch1]', '[F]']\n",
      "CC1=C(C(=O)N2CCCCC2=N1)CCN3CCC(CC3)C4=NOC5=C4C=CC(=C5)F\n"
     ]
    }
   ],
   "source": [
    "from acegen.vocabulary import tokenizers\n",
    "\n",
    "for tokenizer in [tokenizers.SMILESTokenizer, tokenizers.SMILESTokenizer2, tokenizers.DeepSMILESTokenizer, tokenizers.AISTokenizer, tokenizers.SAFETokenizer, tokenizers.SELFIESTokenizer]:\n",
    "    print(tokenizer)\n",
    "    smiles = \"CC1=C(C(=O)N2CCCCC2=N1)CCN3CCC(CC3)C4=NOC5=C4C=CC(=C5)F\"\n",
    "    TOK = tokenizer()\n",
    "    tokens = TOK.tokenize(smiles)\n",
    "    print(tokens)\n",
    "    untokens = TOK.untokenize(tokens)\n",
    "    print(untokens)"
   ]
  },
  {
   "cell_type": "code",
   "execution_count": 3,
   "id": "addf09e6-62cd-4d8d-8012-007ec952d5d8",
   "metadata": {},
   "outputs": [
    {
     "name": "stdout",
     "output_type": "stream",
     "text": [
      "> \u001b[0;32m/shared/morgan/acegen-open/acegen/rl_env/utils.py\u001b[0m(140)\u001b[0;36mgenerate_complete_smiles\u001b[0;34m()\u001b[0m\n",
      "\u001b[0;32m    138 \u001b[0;31m        \u001b[0;32mif\u001b[0m \u001b[0mprompt\u001b[0m\u001b[0;34m:\u001b[0m\u001b[0;34m\u001b[0m\u001b[0;34m\u001b[0m\u001b[0m\n",
      "\u001b[0m\u001b[0;32m    139 \u001b[0;31m            \u001b[0;32mimport\u001b[0m \u001b[0mpdb\u001b[0m\u001b[0;34m;\u001b[0m \u001b[0mpdb\u001b[0m\u001b[0;34m.\u001b[0m\u001b[0mset_trace\u001b[0m\u001b[0;34m(\u001b[0m\u001b[0;34m)\u001b[0m\u001b[0;34m\u001b[0m\u001b[0;34m\u001b[0m\u001b[0m\n",
      "\u001b[0m\u001b[0;32m--> 140 \u001b[0;31m            \u001b[0;32mif\u001b[0m \u001b[0misinstance\u001b[0m\u001b[0;34m(\u001b[0m\u001b[0mprompt\u001b[0m\u001b[0;34m,\u001b[0m \u001b[0mstr\u001b[0m\u001b[0;34m)\u001b[0m\u001b[0;34m:\u001b[0m \u001b[0mprompt\u001b[0m \u001b[0;34m=\u001b[0m \u001b[0;34m[\u001b[0m\u001b[0mprompt\u001b[0m\u001b[0;34m]\u001b[0m\u001b[0;34m*\u001b[0m\u001b[0mbatch_size\u001b[0m\u001b[0;34m[\u001b[0m\u001b[0;36m0\u001b[0m\u001b[0;34m]\u001b[0m\u001b[0;34m\u001b[0m\u001b[0;34m\u001b[0m\u001b[0m\n",
      "\u001b[0m\u001b[0;32m    141 \u001b[0;31m            \u001b[0mtokens\u001b[0m \u001b[0;34m=\u001b[0m \u001b[0;34m[\u001b[0m\u001b[0mtorch\u001b[0m\u001b[0;34m.\u001b[0m\u001b[0mtensor\u001b[0m\u001b[0;34m(\u001b[0m\u001b[0mvocabulary\u001b[0m\u001b[0;34m.\u001b[0m\u001b[0mencode\u001b[0m\u001b[0;34m(\u001b[0m\u001b[0msmi\u001b[0m\u001b[0;34m,\u001b[0m \u001b[0mwith_end\u001b[0m\u001b[0;34m=\u001b[0m\u001b[0;32mTrue\u001b[0m\u001b[0;34m)\u001b[0m\u001b[0;34m)\u001b[0m \u001b[0;32mfor\u001b[0m \u001b[0msmi\u001b[0m \u001b[0;32min\u001b[0m \u001b[0mprompt\u001b[0m\u001b[0;34m]\u001b[0m\u001b[0;34m\u001b[0m\u001b[0;34m\u001b[0m\u001b[0m\n",
      "\u001b[0m\u001b[0;32m    142 \u001b[0;31m            \u001b[0menc_prompts\u001b[0m \u001b[0;34m=\u001b[0m \u001b[0mtorch\u001b[0m\u001b[0;34m.\u001b[0m\u001b[0mvstack\u001b[0m\u001b[0;34m(\u001b[0m\u001b[0;34m[\u001b[0m\u001b[0mtorch\u001b[0m\u001b[0;34m.\u001b[0m\u001b[0mnn\u001b[0m\u001b[0;34m.\u001b[0m\u001b[0mfunctional\u001b[0m\u001b[0;34m.\u001b[0m\u001b[0mpad\u001b[0m\u001b[0;34m(\u001b[0m\u001b[0mtok\u001b[0m\u001b[0;34m,\u001b[0m \u001b[0;34m(\u001b[0m\u001b[0;36m0\u001b[0m\u001b[0;34m,\u001b[0m \u001b[0mmax_length\u001b[0m\u001b[0;34m+\u001b[0m\u001b[0;36m1\u001b[0m\u001b[0;34m-\u001b[0m\u001b[0mtok\u001b[0m\u001b[0;34m.\u001b[0m\u001b[0msize\u001b[0m\u001b[0;34m(\u001b[0m\u001b[0;34m)\u001b[0m\u001b[0;34m[\u001b[0m\u001b[0;36m0\u001b[0m\u001b[0;34m]\u001b[0m\u001b[0;34m)\u001b[0m\u001b[0;34m)\u001b[0m \u001b[0;32mfor\u001b[0m \u001b[0mtok\u001b[0m \u001b[0;32min\u001b[0m \u001b[0mtokens\u001b[0m\u001b[0;34m]\u001b[0m\u001b[0;34m)\u001b[0m\u001b[0;34m\u001b[0m\u001b[0;34m\u001b[0m\u001b[0m\n",
      "\u001b[0m\n"
     ]
    },
    {
     "name": "stdin",
     "output_type": "stream",
     "text": [
      "ipdb>  c\n"
     ]
    },
    {
     "name": "stdout",
     "output_type": "stream",
     "text": [
      "['c1ccccc1n(-c1ccc(OC)cc1)c(=O)c1n2c(C)nn1)N', 'c1ccccc1oc(C)nn1)=O)cc2', 'c1ccccc1ccon1)=O)cc2', 'c1ccccc1n[nH]c(-c2cc([N+](=O)[O-])c(C)o2)n1)=O', 'c1ccccc1nccs1)(O)c1ccccc1)cc2', 'c1ccccc1nc2cccc(Cl)c2[nH]1)=NO', 'c1ccccc1ccccc1)=O)cc2', 'c1ccccc1nc2c(cc(N)cc2)[nH]1)=O', 'c1ccccc1[nH]ccn1)[O-])cc2', 'c1ccccc1[nH]c2cc(Br)ccc2n1)=O', 'c1ccccc1ccc(Cl)cc1)CO)cn2', 'c1ccccc1occc1)O)cc2NC', 'c1ccccc1ocnc1C)=O)cc2', 'c1ccccc1[nH]ncc1)CC2(C)C)C', 'c1ccccc1noc(-c2ccccc2)c1)=O', 'c1ccccc1ccc(F)cc1)=O)cc2', 'c1ccccc1cnc(-c2ccc(F)cc2)o1)O', 'c1ccccc1ccc2[nH]c(=O)oc2c1)=O)C', 'c1ccccc1ccccc1)=O)cn2', 'c1ccccc1nc2ccccc2[nH]1)=O', 'c1ccccc1c(F)cc(Cl)cc1)=O)nc2', 'c1ccccc1onc(C)c1)=O)cc2', 'c1ccccc1nonc1O)(C(F)(F)F)O)cc2', 'c1ccccc1ccccc1)=O)cc2', 'c1ccccc3cccc(F)c3)(N)CC1)s2', 'c1ccccc1nn(C)cc1)c1ccccc12)N', 'c1ccccc1ccccc1)=O)cc2', 'c1ccccc1ccccc1)=O)cc2', 'c1ccccc1[nH]cc(-c2ccccc2)n1)=O', 'c1ccccc1ccc(Cl)cc1)=O)nc2', 'c1ccccc1nc2nc(C)cc(C)n2n1)C#N', 'c1ccccc1ccc(OC)cc1F)=O)cc2', 'c1ccccc1sc2cc(CN3CCOCC3)ccn21)=O', 'c1ccccc1nc(-c2ccsc2)c[nH]1)O', 'c1ccccc1nc2ccccc2nc1-c1cnn(C)c1)=O', 'c1ccccc1n(-c2ccccc2)nc(C)c1)=O', 'c1ccccc1ccc(F)cc1)(C(F)(F)F)O)cc2', 'c1ccccc1nnn[nH]1)=NOC)C2', 'c1ccccc1ccccc1)=O)cc2', 'c1ccccc1sccn1)=O)cc2', 'c1ccccc1ccc(C)cc1)=O)o2', 'c1ccccc1[nH]cnc1)CC2(C)C)=O', 'c1ccccc1ccccc1)=O)c1cccn1-2', 'c1ccccc1ccccc1)(O)C3', 'c1ccccc1ccc(-c2cn[nH]c2)cc1)(C)C', 'c1ccccc1[nH]nc2ncccc12)C', 'c1ccccc1onc(C)c1)=O)cc2', 'c1ccccc1ccccc1)=O)c1cc(F)ccc1-2', 'c1ccccc1[nH]c3c(c1)C(=O)NC3)ccc2', 'c1ccccc1ccc(-c2ccno2)cc1)O', 'c1ccccc1cncnc1)=C2', 'c1ccccc1oc(-c2ccco2)cn1)=O', 'c1ccccc1n[nH]c(=O)o1)CC2)c1ccccc1', 'c1ccccc1cc(Cl)ccc1OCC)C)cc2', 'c1ccccc2ncccc2)=O)cc1', 'c1ccccc1ccccc1)=O)c1ccncc12', 'c1ccccc1ccc(F)cc1)=O)cc2', 'c1ccccc1onc(C)c1)=O)cc2', 'c1ccccc1ccc(N(C)C)cc1)=O)c2', 'c1ccccc1[nH]nnn1)(C)CC(C)(C)C)C2=O', 'c1ccccc1ccccc1)=O)cc2', 'c1ccccc1occc1)C)cc2', 'c1ccccc1oc(C#N)cn1)C1(C)C(O)C(O)C(C)O1)CO2', 'c1ccccc1ccccc1)C)cc2']\n"
     ]
    }
   ],
   "source": [
    "output_data = generate_complete_smiles(\n",
    "    environment=env,\n",
    "    vocabulary=vocabulary,\n",
    "    policy=actor_inference,\n",
    "    prompt=\"c1ccccc\",\n",
    "    promptsmiles=None,#\"N1(*)CCN(CC1)CCCCN(*)\",\n",
    "    promptsmiles_optimize=False,\n",
    "    promptsmiles_shuffle=False,\n",
    "    return_smiles_only=True\n",
    ")\n",
    "print(output_data)\n",
    "#smiles = output_data.select(\"action\").cpu()\n",
    "#smiles_str = [vocabulary.decode(smi.numpy()) for smi in smiles[\"action\"]]\n",
    "#_ = [print(s) for s in smiles_str]"
   ]
  },
  {
   "cell_type": "code",
   "execution_count": 2,
   "id": "4e11d1dd-5912-40dc-9201-d81852849783",
   "metadata": {},
   "outputs": [],
   "source": [
    "# Load prereqs\n",
    "smiles = [\n",
    "    'c1ccccc1',\n",
    "    'c1ccccc1C(=O)C'\n",
    "]\n",
    "\n",
    "# Get available device\n",
    "device = torch.device(\"cpu\")\n",
    "create_actor, voc_path, ckpt_path, tokenizer = (create_gru_actor,\"priors/chembl_filtered_vocabulary.txt\",\"priors/gru_chembl_filtered.ckpt\", SMILESTokenizer())\n",
    "# Load vocabulary\n",
    "with open(voc_path, \"r\") as f:\n",
    "        tokens = f.read().splitlines()\n",
    "tokens_dict = dict(zip(tokens, range(len(tokens))))\n",
    "vocabulary = SMILESVocabulary.create_from_dict(tokens_dict, start_token=\"GO\", end_token=\"EOS\", tokenizer=tokenizer)\n",
    "# Create models\n",
    "ckpt = torch.load(ckpt_path)\n",
    "actor_training, actor_inference = create_actor(vocabulary_size=len(vocabulary))\n",
    "actor_inference.load_state_dict(\n",
    "    adapt_state_dict(ckpt, actor_inference.state_dict())\n",
    ")\n",
    "actor_training.load_state_dict(adapt_state_dict(ckpt, actor_training.state_dict()))\n",
    "actor_inference = actor_inference.to(device)\n",
    "actor_training = actor_training.to(device)\n",
    "prior = deepcopy(actor_training)\n",
    " # Create RL environment\n",
    "# For RNNs, create a transform to populate initial tensordict with recurrent states equal to 0.0\n",
    "rhs_primers = []\n",
    "if hasattr(actor_training, \"rnn_spec\"):\n",
    "    primers = actor_training.rnn_spec.expand(64)\n",
    "    rhs_primers.append(TensorDictPrimer(primers))\n",
    "env_kwargs = {\n",
    "    \"start_token\": vocabulary.start_token_index,\n",
    "    \"end_token\": vocabulary.end_token_index,\n",
    "    \"length_vocabulary\": len(vocabulary),\n",
    "    \"batch_size\": 64,\n",
    "    \"device\": device,\n",
    "}\n",
    "def create_env_fn():\n",
    "    \"\"\"Create a single RL rl_env.\"\"\"\n",
    "    env = SMILESEnv(**env_kwargs)\n",
    "    env = TransformedEnv(env)\n",
    "    env.append_transform(StepCounter())\n",
    "    env.append_transform(InitTracker())\n",
    "    for rhs_primer in rhs_primers:\n",
    "        env.append_transform(rhs_primer)\n",
    "    return env\n",
    "\n",
    "env = create_env_fn()\n",
    "#data = generate_complete_smiles(policy=actor_inference, environment=env)"
   ]
  },
  {
   "cell_type": "code",
   "execution_count": 17,
   "id": "70dee783-6df2-47b7-a3db-a247bad25cf9",
   "metadata": {},
   "outputs": [],
   "source": [
    "@torch.no_grad()\n",
    "def get_log_prob(smiles: list, policy: Union[TensorDictModule, Callable[[TensorDictBase], TensorDictBase]]):\n",
    "    data = smiles_to_tensordict(smiles, mask_value=0)\n",
    "    data.set('is_init', torch.zeros_like(data.get('done')))\n",
    "\n",
    "    actions = data.get(\"action\").clone()\n",
    "\n",
    "    # For transformers-based policies\n",
    "    data.set(\"sequence\", data.get(\"observation\"))\n",
    "\n",
    "    policy_in = data.select(*policy.in_keys, strict=False)\n",
    "    log_prob = policy.get_dist(policy_in).log_prob(actions)\n",
    "    log_prob = log_prob.sum(-1)\n",
    "    return log_prob"
   ]
  },
  {
   "cell_type": "code",
   "execution_count": 18,
   "id": "2fb8c86b-50a9-4940-a99a-0ea36ba2c378",
   "metadata": {},
   "outputs": [
    {
     "data": {
      "text/plain": [
       "tensor([-55.1180, -81.1181])"
      ]
     },
     "execution_count": 18,
     "metadata": {},
     "output_type": "execute_result"
    }
   ],
   "source": [
    "# TODO Pad and encode smiles\n",
    "tokens = [torch.tensor(vocabulary.encode(smi)) for smi in smiles]\n",
    "enc_smiles = torch.vstack([torch.nn.functional.pad(tok, (0, 100-tok.size()[0])) for tok in tokens])\n",
    "get_log_prob(enc_smiles, actor_inference)"
   ]
  },
  {
   "cell_type": "code",
   "execution_count": null,
   "id": "38873dd3-0853-4b43-b4ff-6fa4f2a231b1",
   "metadata": {},
   "outputs": [],
   "source": [
    "torch.tensorz()"
   ]
  },
  {
   "cell_type": "code",
   "execution_count": 12,
   "id": "e6fc93d1-bbb6-4bbb-870c-2e5c9e2a548c",
   "metadata": {
    "collapsed": true,
    "jupyter": {
     "outputs_hidden": true
    }
   },
   "outputs": [
    {
     "data": {
      "text/plain": [
       "TensorDict(\n",
       "    fields={\n",
       "        action: Tensor(shape=torch.Size([2, 99]), device=cpu, dtype=torch.float32, is_shared=False),\n",
       "        done: Tensor(shape=torch.Size([2, 99, 1]), device=cpu, dtype=torch.bool, is_shared=False),\n",
       "        mask: Tensor(shape=torch.Size([2, 99]), device=cpu, dtype=torch.bool, is_shared=False),\n",
       "        next: TensorDict(\n",
       "            fields={\n",
       "                done: Tensor(shape=torch.Size([2, 99, 1]), device=cpu, dtype=torch.bool, is_shared=False),\n",
       "                observation: Tensor(shape=torch.Size([2, 99]), device=cpu, dtype=torch.int32, is_shared=False),\n",
       "                reward: Tensor(shape=torch.Size([2, 99, 1]), device=cpu, dtype=torch.float32, is_shared=False),\n",
       "                terminated: Tensor(shape=torch.Size([2, 99, 1]), device=cpu, dtype=torch.bool, is_shared=False)},\n",
       "            batch_size=torch.Size([2, 99]),\n",
       "            device=cpu,\n",
       "            is_shared=False),\n",
       "        observation: Tensor(shape=torch.Size([2, 99]), device=cpu, dtype=torch.int32, is_shared=False),\n",
       "        terminated: Tensor(shape=torch.Size([2, 99, 1]), device=cpu, dtype=torch.bool, is_shared=False)},\n",
       "    batch_size=torch.Size([2, 99]),\n",
       "    device=cpu,\n",
       "    is_shared=False)"
      ]
     },
     "execution_count": 12,
     "metadata": {},
     "output_type": "execute_result"
    }
   ],
   "source": [
    "smiles_td = smiles_to_tensordict(enc_smiles, mask_value=0)\n",
    "smiles_td"
   ]
  }
 ],
 "metadata": {
  "kernelspec": {
   "display_name": "Python 3 (ipykernel)",
   "language": "python",
   "name": "python3"
  },
  "language_info": {
   "codemirror_mode": {
    "name": "ipython",
    "version": 3
   },
   "file_extension": ".py",
   "mimetype": "text/x-python",
   "name": "python",
   "nbconvert_exporter": "python",
   "pygments_lexer": "ipython3",
   "version": "3.9.18"
  }
 },
 "nbformat": 4,
 "nbformat_minor": 5
}
